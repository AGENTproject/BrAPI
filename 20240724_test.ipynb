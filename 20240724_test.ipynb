{
 "cells": [
  {
   "cell_type": "code",
   "execution_count": 1,
   "id": "f2e2a730-abf2-4d49-ba4c-ca89d0f36245",
   "metadata": {},
   "outputs": [],
   "source": [
    "import requests\n",
    "\n",
    "url_barley = \"https://divbrowse.ipk-gatersleben.de/agent_barley/brapi/v2\"\n",
    "url_wheat = \"https://divbrowse.ipk-gatersleben.de/agent_wheat/brapi/v2\"\n",
    "url_all = \"https://agent.ipk-gatersleben.de/genotyping/brapi/v2\"\n"
   ]
  },
  {
   "cell_type": "code",
   "execution_count": 2,
   "id": "9bdb59ce-66a0-4f0b-9dda-a73bf9ced9ff",
   "metadata": {},
   "outputs": [],
   "source": [
    "def brapiRequest(baseUrl,call,params={}):\n",
    "    try:\n",
    "        headers = {\"Accept\": \"application/json\"}\n",
    "        url = \"{}/{}\".format(baseUrl,call)\n",
    "        fullUrl = \"{}?{}\".format(url,\"&\".join([\"{}={}\".format(x,y) for x,y in params.items()]))\n",
    "        response = requests.get(url, params=params, headers=headers)\n",
    "        try:\n",
    "            if response.ok:\n",
    "                return response.json(), response.status_code, None, fullUrl\n",
    "            else:\n",
    "                return None, response.status_code, response.text, fullUrl\n",
    "        except:\n",
    "            return None, 500, response.text, fullUrl\n",
    "    except Exception as e:\n",
    "        return None, 500, \"error: {}\".format(str(e)), None\n"
   ]
  },
  {
   "cell_type": "code",
   "execution_count": 3,
   "id": "279bec7a-b375-45ae-8852-ba5c9b4cc93e",
   "metadata": {},
   "outputs": [],
   "source": [
    "def getAllelematrixVariantsCallsets(url):\n",
    "    variants = []\n",
    "    callsets = []\n",
    "    totalVariantsPages = 1\n",
    "    totalCallsetsPages = 1\n",
    "    variantsPage = 0\n",
    "    callsetsPage = 0\n",
    "    while variantsPage<totalVariantsPages:\n",
    "        (response, responseCode, responseError, responseUrl) = brapiRequest(url, \"allelematrix\", \n",
    "                                       {\"preview\":\"true\", \n",
    "                                        \"dimensionVariantPage\": variantsPage,\n",
    "                                        \"dimensionVariantPageSize\": 10000,\n",
    "                                        \"dimensionCallSetPageSize\": 1})\n",
    "        for item in response[\"result\"][\"pagination\"]:\n",
    "            if item[\"dimension\"]==\"VARIANTS\":\n",
    "                totalVariantsPages = item[\"totalPages\"]\n",
    "        variants = variants + response[\"result\"][\"variantDbIds\"]\n",
    "        # print(\"variants\",variantsPage,totalVariantsPages)\n",
    "        variantsPage+=1\n",
    "    while callsetsPage<totalCallsetsPages:\n",
    "        (response, responseCode, responseError, responseUrl) = brapiRequest(url, \"allelematrix\", \n",
    "                                       {\"preview\":\"true\", \n",
    "                                        \"dimensionCallSetPage\": callsetsPage,\n",
    "                                        \"dimensionCallSetPageSize\": 10000,\n",
    "                                        \"dimensionVariantPageSize\": 1})\n",
    "        for item in response[\"result\"][\"pagination\"]:\n",
    "            if item[\"dimension\"]==\"CALLSETS\":\n",
    "                totalCallsetsPages = item[\"totalPages\"]\n",
    "        callsets = callsets + response[\"result\"][\"callSetDbIds\"]\n",
    "        # print(\"callsets\",callsetsPage,totalCallsetsPages)\n",
    "        callsetsPage+=1\n",
    "    return variants,callsets\n",
    "\n",
    "allelematrix_variants_barley, allelematrix_callsets_barley = getAllelematrixVariantsCallsets(url_barley)\n",
    "allelematrix_variants_wheat, allelematrix_callsets_wheat = getAllelematrixVariantsCallsets(url_wheat)\n"
   ]
  },
  {
   "cell_type": "code",
   "execution_count": 4,
   "id": "36890846-ba99-43d6-af4d-c003710233dd",
   "metadata": {},
   "outputs": [],
   "source": [
    "def getAllIdentifiers(url,call,identifier):\n",
    "    page = 0\n",
    "    totalPages = 1\n",
    "    results = []\n",
    "    while page<totalPages:\n",
    "        (response, responseCode, responseError, responseUrl) = brapiRequest(url, call, \n",
    "                                       {\"page\": page, \"pageSize\": 10000})\n",
    "        for item in response[\"result\"][\"data\"]:\n",
    "            results.append(item[identifier])\n",
    "        totalPages = response[\"metadata\"][\"pagination\"][\"totalPages\"]\n",
    "        page+=1\n",
    "    return results"
   ]
  },
  {
   "cell_type": "code",
   "execution_count": 5,
   "id": "55e5feb5-3fb8-43e8-816f-07d1a6651bbc",
   "metadata": {},
   "outputs": [
    {
     "name": "stdout",
     "output_type": "stream",
     "text": [
      "set()\n",
      "set()\n",
      "set()\n",
      "set()\n"
     ]
    }
   ],
   "source": [
    "variants_barley = getAllIdentifiers(url_barley,\"variants\",\"variantDbId\")\n",
    "variants_wheat = getAllIdentifiers(url_wheat,\"variants\",\"variantDbId\")\n",
    "#expect empty sets\n",
    "print(set(allelematrix_variants_barley).difference(variants_barley))\n",
    "print(set(allelematrix_variants_wheat).difference(variants_wheat))\n",
    "print(set(variants_barley).difference(allelematrix_variants_barley))\n",
    "print(set(variants_wheat).difference(allelematrix_variants_wheat))"
   ]
  },
  {
   "cell_type": "code",
   "execution_count": 6,
   "id": "5cd26bb7-f821-4407-95e2-4affd940b8c1",
   "metadata": {},
   "outputs": [],
   "source": [
    "callsets = getAllIdentifiers(url_all,\"callsets\",\"callSetDbId\")"
   ]
  },
  {
   "cell_type": "code",
   "execution_count": 7,
   "id": "ed76b3f2-75d0-4f82-b455-6f62fedd0319",
   "metadata": {},
   "outputs": [
    {
     "name": "stdout",
     "output_type": "stream",
     "text": [
      "wheat: allelematrix 15225 callsets, 6957 are in callsets, 8268 not in callsets\n",
      "barley: allelematrix 26737 callsets, 5253 are in callsets, 21484 not in callsets\n",
      "59 callsets not in allelematrix wheat or barley\n"
     ]
    }
   ],
   "source": [
    "print(\"wheat: allelematrix %s callsets, %s are in callsets, %s not in callsets\" % (\n",
    "    len(set(allelematrix_callsets_wheat)),\n",
    "    len(set(allelematrix_callsets_wheat).intersection(callsets)),\n",
    "    len(set(allelematrix_callsets_wheat).difference(callsets))\n",
    "))\n",
    "print(\"barley: allelematrix %s callsets, %s are in callsets, %s not in callsets\" % (\n",
    "    len(set(allelematrix_callsets_barley)),\n",
    "    len(set(allelematrix_callsets_barley).intersection(callsets)),\n",
    "    len(set(allelematrix_callsets_barley).difference(callsets))\n",
    "))\n",
    "print(\"%s callsets not in allelematrix wheat or barley\" % (\n",
    "    len(set(callsets).difference(allelematrix_callsets_wheat).difference(allelematrix_callsets_barley))\n",
    "))"
   ]
  },
  {
   "cell_type": "code",
   "execution_count": 11,
   "id": "f11263d3-e91c-4518-b0dd-8504bc01d6a3",
   "metadata": {},
   "outputs": [
    {
     "data": {
      "text/plain": [
       "['SAMEA10922514',\n",
       " 'SAMEA10922515',\n",
       " 'SAMEA10922516',\n",
       " 'SAMEA10922517',\n",
       " 'SAMEA10922518',\n",
       " 'SAMEA10922519',\n",
       " 'SAMEA10922520',\n",
       " 'SAMEA10922521',\n",
       " 'SAMEA10922522',\n",
       " 'SAMEA10922523']"
      ]
     },
     "execution_count": 11,
     "metadata": {},
     "output_type": "execute_result"
    }
   ],
   "source": [
    "sorted(set(allelematrix_callsets_wheat).difference(callsets))[0:10]"
   ]
  },
  {
   "cell_type": "code",
   "execution_count": 12,
   "id": "af3464e1-759a-4b0a-8bf4-3768d380fd4e",
   "metadata": {},
   "outputs": [
    {
     "data": {
      "text/plain": [
       "['SAMEA10401827',\n",
       " 'SAMEA10401851',\n",
       " 'SAMEA10401852',\n",
       " 'SAMEA10401853',\n",
       " 'SAMEA10401854',\n",
       " 'SAMEA10401855',\n",
       " 'SAMEA10401856',\n",
       " 'SAMEA10401857',\n",
       " 'SAMEA10401862',\n",
       " 'SAMEA10401865']"
      ]
     },
     "execution_count": 12,
     "metadata": {},
     "output_type": "execute_result"
    }
   ],
   "source": [
    "sorted(set(allelematrix_callsets_barley).difference(callsets))[0:10]"
   ]
  },
  {
   "cell_type": "code",
   "execution_count": 13,
   "id": "c178dec6-3a4c-4469-a158-e64e63c05964",
   "metadata": {},
   "outputs": [
    {
     "data": {
      "text/plain": [
       "['None',\n",
       " 'SAMEA10402005',\n",
       " 'SAMEA10402105',\n",
       " 'SAMEA10402112',\n",
       " 'SAMEA10402115',\n",
       " 'SAMEA10402138',\n",
       " 'SAMEA10402208',\n",
       " 'SAMEA10402275',\n",
       " 'SAMEA10402285',\n",
       " 'SAMEA10402349']"
      ]
     },
     "execution_count": 13,
     "metadata": {},
     "output_type": "execute_result"
    }
   ],
   "source": [
    "sorted(set(callsets).difference(allelematrix_callsets_wheat).difference(allelematrix_callsets_barley))[0:10]"
   ]
  },
  {
   "cell_type": "code",
   "execution_count": 17,
   "id": "89c5dd83-c931-4759-88e7-b578186dc765",
   "metadata": {},
   "outputs": [
    {
     "name": "stdout",
     "output_type": "stream",
     "text": [
      "True False\n",
      "True False\n",
      "True False\n",
      "True False\n",
      "True False\n",
      "True False\n"
     ]
    }
   ],
   "source": [
    "#check examples from e-mail\n",
    "entries = [\"SAMEA7824966\", \"SAMEA7825972\", \"SAMEA7828512\", \"SAMEA7826208\", \"SAMEA7821926\", \"SAMEA7827342\"]\n",
    "for item in entries:\n",
    "    print(item in allelematrix_callsets_wheat, item in callsets)"
   ]
  }
 ],
 "metadata": {
  "kernelspec": {
   "display_name": "Python 3 (ipykernel)",
   "language": "python",
   "name": "python3"
  },
  "language_info": {
   "codemirror_mode": {
    "name": "ipython",
    "version": 3
   },
   "file_extension": ".py",
   "mimetype": "text/x-python",
   "name": "python",
   "nbconvert_exporter": "python",
   "pygments_lexer": "ipython3",
   "version": "3.10.4"
  }
 },
 "nbformat": 4,
 "nbformat_minor": 5
}
